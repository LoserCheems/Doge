{
 "cells": [
  {
   "cell_type": "markdown",
   "metadata": {},
   "source": [
    "# Doge\n",
    "\n",
    "\n",
    "Train the `Doge` small language model proposed in the paper [Wonderful Matrices](https://arxiv.org/abs/2412.11834).\n",
    "Doge is based on the Transformers framework, replacing the `Multi-Head Attention` in the sequence transformation part with `Dynamic Mask Attention`, and replacing the `MLP` in the state transformation part with `CDMoE`.\n",
    "\n",
    "![doge_architecture](../assets/doge_architecture.png)"
   ]
  },
  {
   "cell_type": "markdown",
   "metadata": {},
   "source": [
    "## PreTrain"
   ]
  },
  {
   "cell_type": "markdown",
   "metadata": {},
   "source": [
    "### Download Pre-Training and Fine-Tuning Datasets\n",
    "\n",
    "\n",
    "For the pre-training dataset, we selected the high-quality text `fineweb-edu-dedup`, the synthetic instruction dataset `cosmopedia-v2`, and supplemented it with `python-edu` and `open-web-math` to ensure the model's code and mathematical capabilities.\n",
    "\n",
    "\n",
    "> Note: Due to the large size of the dataset, at least 2TB of storage space is required."
   ]
  },
  {
   "cell_type": "code",
   "execution_count": null,
   "metadata": {},
   "outputs": [],
   "source": [
    "# Padding save path, cache path and number of processes\n",
    "!python ./examples/pretrain/scripts/download_datasets.py --save_dir ./datasets --cache_dir ./cache --num_proc 1"
   ]
  },
  {
   "cell_type": "markdown",
   "metadata": {},
   "source": [
    "### Preprocess Datasets\n",
    "\n",
    "\n",
    "We need to use the `tokenizer` to convert the dataset into `input_ids` and `attention_mask` that the model can accept.\n",
    "Doge uses the `LlamaTokenizer`, which has a vocabulary size of `32768`, and uses the `[INST]` and `[/INST]` tags to mark instructions. It also includes utility tokens, but we won't use them here.\n",
    "Datasets like cosmopedia-v2 include two fields, `prompt` and `text`, which we will mark as user content and assistant content.\n",
    "\n",
    "```python\n",
    "conversation = [\n",
    "    {\"role\": \"user\", \"content\": prompt},\n",
    "    {\"role\": \"assistant\", \"content\": text},\n",
    "]\n",
    "return tokenizer.apply_chat_template(conversation, tokenize=True, padding='max_length', truncation=True, max_length=MAX_LENGTH, return_dict=True)\n",
    "```\n",
    "\n",
    "\n",
    "Of course, you can also add some instruction prompts yourself.\n",
    "\n",
    "\n",
    "```python\n",
    "conversation = [\n",
    "    {\"role\": \"user\", \"content\": \"Who are you?\"},\n",
    "    {\"role\": \"assistant\", \"content\": \"I am an AI assistant named `Doge`, I am a language model trained by `Shi Jingze` based on the `Doge` architecture, and my task is to provide appropriate answers and support to users based on their questions and requests.\"},\n",
    "    {\"role\": \"user\", \"content\": prompt},\n",
    "    {\"role\": \"assistant\", \"content\": text},\n",
    "]\n",
    "```"
   ]
  },
  {
   "cell_type": "code",
   "execution_count": null,
   "metadata": {},
   "outputs": [],
   "source": [
    "# Padding dataset path, save path, tokenizer path, number of samples, max length and number of processes\n",
    "# NOTE: We only keep 160B tokens dataset, the ratio of fineweb-edu:cosmopedia-v2:python-edu:open-web-math = 7:2:0.5:0.5, if you need to train larger model, please increase the scale of the dataset by yourself\n",
    "!python ./examples/pretrain/scripts/preprocess_datasets.py --datasets_dir ./datasets --save_dir ./datasets --tokenizer_path ./examples/tokenizer --train_examples 81920000 --test_examples 1000 --max_length 2048 --num_proc 16"
   ]
  },
  {
   "cell_type": "markdown",
   "metadata": {},
   "source": [
    "### Concatenate Datasets\n",
    "\n",
    "\n",
    "We combine the fineweb-edu_tokenized, cosmopedia-v2, python-edu, and open-web-math datasets into the `pretrain` dataset.\n",
    "Then shuffle the order `seed=233`, and split out `1,000` samples as the test set."
   ]
  },
  {
   "cell_type": "code",
   "execution_count": null,
   "metadata": {},
   "outputs": [],
   "source": [
    "# Padding dataset path, save path, number of samples and number of processes\n",
    "!python ./examples/pretrain/scripts/concatenate_datasets.py --datasets_dir ./datasets --save_dir ./datasets --train_examples 81920000 --test_examples 1000 --num_proc 16"
   ]
  },
  {
   "cell_type": "markdown",
   "metadata": {},
   "source": [
    "### Configure Model\n",
    "\n",
    "\n",
    "We configure a `20M` small model for training and testing.\n",
    "\n",
    "| Model | Params | n_layers | d_model | d_ff | n_heads | n_exprets | n_expert_heads | n_expert_pre_head |\n",
    "|---|---|---|---|---|---|---|---|---|\n",
    "| Doge-20M | 20M | 4 | 256 | 1024 | 2 | - | - | - |\n",
    "| Doge-MoE-20M | 20M | 4 | 256 | 1024 | 2 | 1024 | 2 | 4 |\n",
    "| Doge-60M | 60M | 8 | 512 | 2048 | 4 | - | - | - |\n",
    "| Doge-MoE-80M | 80M | 8 | 512 | 2048 | 4 | 2048 | 4 | 8 |\n",
    "| Doge-160M | 160M | 12 | 768 | 3072 | 6 | - | - | - |\n",
    "| Doge-MoE-230M | 230M | 12 | 768 | 3072 | 6 | 3072 | 6 | 12 |\n",
    "| Doge-320M | 320M | 16 | 1024 | 4096 | 8 | - | - | - |\n",
    "| Doge-MoE-500M | 500M | 16 | 1024 | 4096 | 8 | 4096 | 8 | 16 |\n",
    "\n",
    "\n",
    "- n_layers is the number of decoder layers in the model\n",
    "- d_model is the hidden layer dimension of the model\n",
    "- n_heads is the number of heads of multi-head attention, d_model // n_heads is best kept above 64\n",
    "\n",
    "\n",
    "> The `Doge-MoE` model can inherit the dense activation parameters of the `Doge` model, and increase the sparse activation parameters by setting `n_experts`, `n_expert_heads`, `n_expert_pre_head`."
   ]
  },
  {
   "cell_type": "markdown",
   "metadata": {},
   "source": [
    "### Configure Pre-Training Hyperparameters\n",
    "\n",
    "| Params | tokens | num_train_epochs | per_epoch_max_steps | accumulate_steps | learning_rate | warmup_ratio | weight_decay | min_lr_rate |\n",
    "|--------|--------|------------------|---------------------|------------------|---------------|--------------|--------------|-------------|\n",
    "| 20M    | 5B     | 2                | 10,000              | 128              | 8e-4          | 0.1          | 0.01         | 0.1         |\n",
    "| 60M    | 20B    | 2                | 20,000              | 256              | 6e-4          | 0.1          | 0.01         | 0.1         |\n",
    "| 160M   | 80B    | 2                | 40,000              | 512              | 5e-4          | 0.1          | 0.01         | 0.1         |\n",
    "| 320M   | 320B   | 2                | 80,000              | 1024             | 4e-4          | 0.1          | 0.01         | 0.1         |"
   ]
  },
  {
   "cell_type": "markdown",
   "metadata": {},
   "source": [
    "### Pre-Training Model"
   ]
  },
  {
   "cell_type": "code",
   "execution_count": null,
   "metadata": {},
   "outputs": [],
   "source": [
    "# Padding config path, logging path, output path and tokenizer path, if needed, you can also specify checkpoint path to resume training --resume_from_checkpoint\n",
    "!python ./examples/pretrain/scripts/pretrain.py --config_path ./examples/pretrain/configs/Doge-20M.yaml --logging_dir ./logs --output_dir ./results --tokenizer_path ./examples/tokenizer --resume_from_checkpoint <path_to_checkpoint>"
   ]
  },
  {
   "cell_type": "markdown",
   "metadata": {},
   "source": [
    "### Usage\n",
    "\n",
    "\n",
    "After training is complete, we can use `AutoModelForCausalLM` of `Transformers` to load the model, and use `AutoTokenizer` to load `LlamaTokenizer`."
   ]
  },
  {
   "cell_type": "code",
   "execution_count": 9,
   "metadata": {},
   "outputs": [],
   "source": [
    "from transformers import AutoTokenizer, AutoModelForCausalLM\n",
    "\n",
    "tokenizer = AutoTokenizer.from_pretrained(\"JingzeShi/Doge-20M\")\n",
    "model = AutoModelForCausalLM.from_pretrained(\"JingzeShi/Doge-20M\", trust_remote_code=True)"
   ]
  },
  {
   "cell_type": "code",
   "execution_count": null,
   "metadata": {},
   "outputs": [],
   "source": [
    "inputs = tokenizer(\"Hey how are you doing?\", return_tensors=\"pt\")\n",
    "\n",
    "out = model.generate(**inputs, max_new_tokens=20)\n",
    "print(tokenizer.batch_decode(out))"
   ]
  },
  {
   "cell_type": "markdown",
   "metadata": {},
   "source": [
    "## FineTune"
   ]
  },
  {
   "cell_type": "markdown",
   "metadata": {},
   "source": [
    "### Download Fine-Tuning Datasets\n",
    "\n",
    "\n",
    "For the fine-tuning dataset, we selected the synthetic instruction dataset `smoltalk` for supervised fine-tuning."
   ]
  },
  {
   "cell_type": "code",
   "execution_count": null,
   "metadata": {},
   "outputs": [],
   "source": [
    "# Padding save path, cache path and number of processes\n",
    "!python ./examples/finetune/scripts/download_datasets.py --save_dir ./datasets --cache_dir ./cache --num_proc 1"
   ]
  },
  {
   "cell_type": "markdown",
   "metadata": {},
   "source": [
    "### Process Fine-Tuning Datasets\n",
    "\n",
    "\n",
    "We'll apply Fine-Tuning datasets with `chat templete` ."
   ]
  },
  {
   "cell_type": "code",
   "execution_count": null,
   "metadata": {},
   "outputs": [],
   "source": [
    "# Padding dataset path, save path, tokenizer path, number process.\n",
    "!python ./examples/finetune/scripts/preprocess_datasets.py --datasets_dir ./datasets --save_dir ./datasets --tokenizer_path ./examples/tokenizer --num_proc 8"
   ]
  },
  {
   "cell_type": "markdown",
   "metadata": {},
   "source": [
    "### Fine-Tuning Model"
   ]
  },
  {
   "cell_type": "code",
   "execution_count": null,
   "metadata": {},
   "outputs": [],
   "source": [
    "# Padding pretrained model name or path, config path, logging path, output path, if needed, you can also specify checkpoint path to resume training --resume_from_checkpoint\n",
    "!python ./examples/finetune/scripts/sft.py --pretrained_model_name_or_path JingzeShi/Doge-20M --config_path ./examples/finetune/configs/Doge-20M-Instruct.yaml --logging_dir ./logs --output_dir ./results --resume_from_checkpoint <path_to_checkpoint>"
   ]
  },
  {
   "cell_type": "markdown",
   "metadata": {},
   "source": [
    "### Usage"
   ]
  },
  {
   "cell_type": "code",
   "execution_count": null,
   "metadata": {},
   "outputs": [],
   "source": [
    "from transformers import AutoTokenizer, AutoModelForCausalLM, GenerationConfig, TextStreamer\n",
    "\n",
    "tokenizer = AutoTokenizer.from_pretrained(\"JingzeShi/Doge-20M-Instruct\")\n",
    "model = AutoModelForCausalLM.from_pretrained(\"JingzeShi/Doge-20M-Instruct\", trust_remote_code=True)"
   ]
  },
  {
   "cell_type": "code",
   "execution_count": 12,
   "metadata": {},
   "outputs": [],
   "source": [
    "generation_config = GenerationConfig(\n",
    "      max_new_tokens=100, \n",
    "      use_cache=True, \n",
    "      do_sample=True, \n",
    "      temperature=0.8, \n",
    "      repetition_penalty=1.0\n",
    ")\n",
    "steamer = TextStreamer(\n",
    "      tokenizer=tokenizer, \n",
    "      skip_prompt=True\n",
    ")"
   ]
  },
  {
   "cell_type": "code",
   "execution_count": null,
   "metadata": {},
   "outputs": [],
   "source": [
    "prompt = \"Hi, how are you doing today?\"\n",
    "\n",
    "conversation = [\n",
    "      {\"role\": \"user\", \"content\": prompt}\n",
    "]\n",
    "inputs = tokenizer.apply_chat_template(\n",
    "    conversation=conversation,\n",
    "    tokenize=True,\n",
    "    return_tensors=\"pt\",\n",
    ")\n",
    "\n",
    "outputs = model.generate(\n",
    "    inputs, \n",
    "    tokenizer=tokenizer,\n",
    "    generation_config=generation_config, \n",
    "    streamer=steamer\n",
    ")"
   ]
  },
  {
   "cell_type": "markdown",
   "metadata": {},
   "source": [
    "## Evaluation\n",
    "\n",
    "\n",
    "First, install `miniconda`.\n",
    "\n",
    "\n",
    "```bash\n",
    "wget https://repo.anaconda.com/miniconda/Miniconda3-latest-Linux-x86_64.sh\n",
    "bash Miniconda3-latest-Linux-x86_64.sh\n",
    "```\n",
    "\n",
    "\n",
    "Then create an evaluation environment.\n",
    "\n",
    "\n",
    "```bash\n",
    "conda create -n lighteval python=3.10.12 \n",
    "conda activate lighteval\n",
    "pip install lighteval[accelerate]\n",
    "```\n",
    "\n",
    "\n",
    "Finally, we run the evaluation script.\n",
    "\n",
    "\n",
    "if you use Linux, you can run the following command.\n",
    "\n",
    "\n",
    "```bash\n",
    "bash ./examples/evaluate/eval_downstream_tasks.sh\n",
    "```\n",
    "\n",
    "\n",
    "if you use Windows, you can run the following command.\n",
    "\n",
    "\n",
    "```bash\n",
    ". ./examples/evaluate/eval_downstream_tasks.ps1\n",
    "```\n",
    "\n",
    "\n",
    "> NOTE: The MODEL in the script can also be filled with the saved checkpoint path, just need to register the save to run."
   ]
  },
  {
   "cell_type": "markdown",
   "metadata": {},
   "source": []
  }
 ],
 "metadata": {
  "kernelspec": {
   "display_name": "doge",
   "language": "python",
   "name": "python3"
  },
  "language_info": {
   "codemirror_mode": {
    "name": "ipython",
    "version": 3
   },
   "file_extension": ".py",
   "mimetype": "text/x-python",
   "name": "python",
   "nbconvert_exporter": "python",
   "pygments_lexer": "ipython3",
   "version": "3.10.12"
  }
 },
 "nbformat": 4,
 "nbformat_minor": 2
}
