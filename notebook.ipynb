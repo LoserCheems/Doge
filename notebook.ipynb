{
 "cells": [
  {
   "cell_type": "markdown",
   "metadata": {},
   "source": [
    "# Doge\n",
    "\n",
    "训练 [Wonderful Matrices](https://arxiv.org/abs/2407.16958) 论文中提出的 `Doge` 小型语言模型.\n",
    "Doge在 Transformers 的框架基础上, 将序列变换部分的 `Multi-Head Attention` 替换为 `Inner Function Attention`, 将状态变换部分的 `MLP` 替换为 `CDMoE` . \n",
    "\n",
    "Train the `Doge` small language model proposed in the paper [Wonderful Matrices](https://arxiv.org/abs/2407.16958).\n",
    "Doge is based on the Transformers framework, replacing the `Multi-Head Attention` in the sequence transformation part with `Inner Function Attention`, and replacing the `MLP` in the state transformation part with `CDMoE`.\n",
    "\n",
    "![doge_architecture](./assets/doge_architecture.png)"
   ]
  },
  {
   "cell_type": "markdown",
   "metadata": {},
   "source": [
    "## 下载预训练与微调数据集\n",
    "## Download Pre-Training and Fine-Tuning Datasets\n",
    "\n",
    "预训练数据集, 我们选取了 `fineweb-edu-dedup` 高质量文本, `cosmopedia-v2` 合成指令数据集, 并补充 `python-edu` 与 `open-web-math` 来保证模型的代码与数学能力. \n",
    "\n",
    "For the pre-training dataset, we selected the high-quality text `fineweb-edu-dedup`, the synthetic instruction dataset `cosmopedia-v2`, and supplemented it with `python-edu` and `open-web-math` to ensure the model's code and mathematical capabilities.\n",
    "\n",
    "> 请注意: 由于数据集过大, 至少需要 2TB 的存储空间.\n",
    "\n",
    "> Note: Due to the large size of the dataset, at least 2TB of storage space is required."
   ]
  },
  {
   "cell_type": "code",
   "execution_count": null,
   "metadata": {},
   "outputs": [],
   "source": [
    "# 填写保存路径, 缓存路径和进程数\n",
    "# Padding save path, cache path and number of processes\n",
    "!python scripts/download_datasets.py --save_dir S:/datasets --cache_dir S:/datasets/cache --num_proc 16"
   ]
  },
  {
   "cell_type": "markdown",
   "metadata": {},
   "source": [
    "## 预处理数据集\n",
    "## Preprocess Datasets\n",
    "\n",
    "我们需要使用 `tokenizer` 将数据集转为模型可接受的 `input_ids` 与 `attention_mask`.\n",
    "Doge 使用 `LlamaTokenizer` , 该 tokenizer 词表大小为 `32768` , 使用 `[INST]` 与 `[/INST]` 标记指令. 它还包括工具标记, 但是我们不会在这里使用它们.\n",
    "像 cosmopedia-v2 这样的数据集就包括 `prompt` 与 `text` 两个字段, 我们就将他们标记为用户指令提示与模型输出文本.\n",
    "\n",
    "We need to use the `tokenizer` to convert the dataset into `input_ids` and `attention_mask` that the model can accept.\n",
    "Doge uses the `LlamaTokenizer`, which has a vocabulary size of `32768`, and uses the `[INST]` and `[/INST]` tags to mark instructions. It also includes utility tokens, but we won't use them here.\n",
    "Datasets like cosmopedia-v2 include two fields, `prompt` and `text`, which we will mark as user instruction prompts and model output text.\n",
    "\n",
    "```python\n",
    "prompt = f\"[INST]{prompt}[/INST]\"\n",
    "return tokenizer(prompt, text, padding='max_length', truncation=True, max_length=MAX_LENGTH)\n",
    "```\n",
    "\n",
    "当然你也可以自行加入一些指令提示.\n",
    "\n",
    "Of course, you can also add some instruction prompts yourself.\n",
    "\n",
    "```python\n",
    "prompt = f\"[INST]You are an AI assistant named `Doge`, you are a language model trained by `Shi Jingze` based on the `Doge` architecture, and your task is to provide appropriate replies and support to users based on their questions and requests.\\n你是一个名为 `Doge` 的人工智能助手, 你是由 `石竞泽` 基于 `Doge` 架构训练的语言模型, 你的任务是针对用户的问题和要求提供适当的答复和支持.\\n[/INST][INST]{prompt}[/INST]\"\n",
    "return tokenizer(prompt, text, padding='max_length', truncation=True, max_length=MAX_LENGTH)\n",
    "```"
   ]
  },
  {
   "cell_type": "code",
   "execution_count": null,
   "metadata": {},
   "outputs": [],
   "source": [
    "# 填写数据集路径, 保存路径, 分词器路径, token数量, 最大长度和进程数\n",
    "# Padding dataset path, save path, tokenizer path, token number, max length and number of processes\n",
    "# NOTE: 我们只保留 100B tokens 的数据集, 比例为 fineweb-edu:cosmopedia-v2:python-edu:open-web-math = 7:2:0.5:0.5, 如果你需要训练更大的模型, 请自行增加数据集的规模\n",
    "# NOTE: We only keep 100B tokens dataset, the ratio of fineweb-edu:cosmopedia-v2:python-edu:open-web-math = 7:2:0.5:0.5, if you need to train larger model, please increase the scale of the dataset by yourself\n",
    "!python scripts/preprocess_datasets.py --datasets_dir S:/datasets --save_dir S:/datasets --tokenizer_path ./tokenizer --tokens 100_000_000_000 --max_len 2048 --num_proc 16"
   ]
  },
  {
   "cell_type": "markdown",
   "metadata": {},
   "source": [
    "## 合并数据集\n",
    "## Concatenate Datasets\n",
    "\n",
    "我们将 fineweb-edu_tokenized, cosmopedia-v2, python-edu 和 open-web-math 数据集合并为 `pretrain` 数据集.\n",
    "然后将它们打乱顺序 `seed=233` , 并拆分出来 `1,000` 个样本作为测试集.\n",
    "\n",
    "We combine the fineweb-edu_tokenized, cosmopedia-v2, python-edu, and open-web-math datasets into the `pretrain` dataset.\n",
    "Then shuffle the order `seed=233`, and split out `1,000` samples as the test set."
   ]
  },
  {
   "cell_type": "code",
   "execution_count": null,
   "metadata": {},
   "outputs": [],
   "source": [
    "# 填写数据集路径, 保存路径和进程数\n",
    "# Padding dataset path, save path and number of processes\n",
    "!python scripts/concatenate_datasets.py --datasets_dir S:/datasets --save_dir S:/datasets --num_proc 16"
   ]
  },
  {
   "cell_type": "markdown",
   "metadata": {},
   "source": [
    "## 配置模型参数\n",
    "## Configure Model Parameters\n",
    "\n",
    "我们配置一个 `200M` 的小型模型, 进行训练测试.\n",
    "\n",
    "| Params | n_layers | d_model | n_heads | n_inner_v | d_cross_domain | d_expert | n_exprets | n_expert_heads | n_expert_pre_head |\n",
    "|--------|----------|---------|---------|-----------|----------------|----------|-----------|----------------|-------------------|\n",
    "| 200M   | 12       | 768     | 6       | 6         | 3072           | 768      | 3072      | 1              | 2                 |\n",
    "| 420M   | 16       | 1024    | 8       | 8         | 4096           | 1024     | 4096      | 2              | 4                 |\n",
    "| 1.3B   | 24       | 1536    | 12      | 12        | 6144           | 1536     | 6144      | 3              | 6                 |\n",
    "| 3.2B   | 32       | 2048    | 16      | 16        | 8192           | 2048     | 8192      | 4              | 8                 |\n",
    "\n",
    "- n_layers 是模型的解码器层数\n",
    "- d_model 是模型的隐藏层维度\n",
    "- n_heads 是InnerFuncAttn的多头注意力头数 d_model // n_heads 最好保持在 64 以上\n",
    "- n_inner_v 是InnerFUncAttn的V的数量 d_model // n_inner_v 最好保持在 64 以上"
   ]
  },
  {
   "cell_type": "markdown",
   "metadata": {},
   "source": [
    "## 配置预训练超参数\n",
    "## Configure Pre-Training Hyperparameters\n",
    "\n",
    "| Params | tokens | num_train_epochs | per_epoch_max_steps | accumulate_steps | learning_rate | warmup_ratio | weight_decay | min_lr_rate |\n",
    "|--------|--------|------------------|---------------------|------------------|---------------|--------------|--------------|-------------|\n",
    "| 200M   | 5B     | 1                | 10,000              | 256              | 4e-4          | 0.1          | 0.01         | 0.1         |\n",
    "| 400M   | 20B    | 1                | 20,000              | 512              | 3e-4          | 0.1          | 0.01         | 0.1         |\n",
    "| 1.3B   | 80B    | 1                | 40,000              | 1024             | 2e-4          | 0.1          | 0.01         | 0.1         |\n",
    "| 3.2B   | 320B   | 1                | 80,000              | 2048             | 1e-4          | 0.1          | 0.01         | 0.1         |"
   ]
  },
  {
   "cell_type": "code",
   "execution_count": null,
   "metadata": {},
   "outputs": [],
   "source": [
    "from yaml import safe_load\n",
    "\n",
    "# 读取配置文件, 请根据实际情况自行修改\n",
    "# Read the configuration file, please modify it according to the actual situation\n",
    "with open('./model/config/doge_25M.yaml', 'r', encoding='utf-8') as f:\n",
    "    config = safe_load(f)\n",
    "\n",
    "config['model']"
   ]
  },
  {
   "cell_type": "markdown",
   "metadata": {},
   "source": [
    "## 模型训练\n",
    "## Model Training"
   ]
  },
  {
   "cell_type": "code",
   "execution_count": 6,
   "metadata": {},
   "outputs": [
    {
     "name": "stderr",
     "output_type": "stream",
     "text": [
      "e:\\conda\\envs\\self\\lib\\site-packages\\torchvision\\io\\image.py:13: UserWarning: Failed to load image Python extension: '[WinError 127] 找不到指定的程序。'If you don't plan on using image functionality from `torchvision.io`, you can ignore this warning. Otherwise, there might be something wrong with your environment. Did you have `libjpeg` or `libpng` installed before building `torchvision` from source?\n",
      "  warn(\n",
      "DogeForCausalLM(\n",
      "  (model): DogeModel(\n",
      "    (word_embed): Embedding(32768, 768, padding_idx=0)\n",
      "    (rotary_emb): RotaryEmbedding()\n",
      "    (layers): ModuleList(\n",
      "      (0-11): 12 x DogeDecoderLayer(\n",
      "        (in_attn_layernorm): RMSNorm((768,), eps=1e-06)\n",
      "        (attn): DogeInnerFuncAttn(\n",
      "          (q_proj): Linear(in_features=768, out_features=768, bias=False)\n",
      "          (k_proj): Linear(in_features=768, out_features=768, bias=False)\n",
      "          (v_queries): Linear(in_features=768, out_features=128, bias=False)\n",
      "          (v_embed): Embedding(6, 768)\n",
      "          (o_proj): Linear(in_features=768, out_features=768, bias=False)\n",
      "        )\n",
      "        (in_ff_layernorm): RMSNorm((768,), eps=1e-06)\n",
      "        (feed_forward): DogeCDMoE(\n",
      "          (act_fn): SiLU()\n",
      "          (shared_up_proj): Linear(in_features=768, out_features=3072, bias=False)\n",
      "          (shared_down_proj): Linear(in_features=3072, out_features=768, bias=False)\n",
      "          (queries): Linear(in_features=768, out_features=768, bias=False)\n",
      "          (down_embed): Embedding(3072, 768)\n",
      "          (up_embed): Embedding(3072, 768)\n",
      "        )\n",
      "      )\n",
      "    )\n",
      "    (final_layernorm): RMSNorm((768,), eps=1e-06)\n",
      "  )\n",
      "  (lm_head): Linear(in_features=768, out_features=32768, bias=False)\n",
      ")\n",
      "194839296\n"
     ]
    }
   ],
   "source": [
    "# 你需要指定配置文件路径, 日志路径, 输出路径和分词器路径, 如果需要的话, 还可以指定检查点继续训练 --resume_from_checkpoint\n",
    "!python train.py --config_path ./model/config/doge_200M.yaml --logging_dir ./logs --output_dir ./results --tokenizer_path ./tokenizer "
   ]
  },
  {
   "cell_type": "markdown",
   "metadata": {},
   "source": [
    "## 评估\n",
    "## Evaluation\n",
    "\n",
    "我们先安装 `miniconda` .\n",
    "\n",
    "First, install `miniconda`.\n",
    "\n",
    "```bash\n",
    "wget https://repo.anaconda.com/miniconda/Miniconda3-latest-Linux-x86_64.sh\n",
    "bash Miniconda3-latest-Linux-x86_64.sh\n",
    "```\n",
    "\n",
    "然后创建评估环境.\n",
    "\n",
    "Then create an evaluation environment.\n",
    "\n",
    "```bash\n",
    "conda create -n lighteval python=3.10.12 \n",
    "conda activate lighteval\n",
    "pip install lighteval[accelerate]\n",
    "```\n",
    "\n",
    "最后我们运行评估单元格.\n",
    "\n",
    "Finally, we run the evaluation cell.\n"
   ]
  },
  {
   "cell_type": "code",
   "execution_count": null,
   "metadata": {},
   "outputs": [],
   "source": [
    "MODEL = \"LoserCheems/Doge-25M\"\n",
    "OUTPUT_DIR = \"./lighteval_results\"\n",
    "!lighteval accelerate \\\n",
    "--model_args=\"pretrained=$MODEL\" \\\n",
    "--output_dir $OUTPUT_DIR \\\n",
    "--override_batch_size 16 \\\n",
    "--tasks \"original|mmlu|0|1,lighteval|triviaqa|0|1,lighteval|arc:easy|0|1,lighteval|piqa|0|1,leaderboard|hellaswag|0|1,lighteval|openbookqa|0|1,leaderboard|winogrande|0|1\""
   ]
  }
 ],
 "metadata": {
  "kernelspec": {
   "display_name": "self",
   "language": "python",
   "name": "python3"
  },
  "language_info": {
   "codemirror_mode": {
    "name": "ipython",
    "version": 3
   },
   "file_extension": ".py",
   "mimetype": "text/x-python",
   "name": "python",
   "nbconvert_exporter": "python",
   "pygments_lexer": "ipython3",
   "version": "3.9.16"
  }
 },
 "nbformat": 4,
 "nbformat_minor": 2
}
